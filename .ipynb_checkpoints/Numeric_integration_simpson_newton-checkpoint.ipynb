{
 "cells": [
  {
   "cell_type": "code",
   "execution_count": 1,
   "metadata": {
    "collapsed": false
   },
   "outputs": [
    {
     "name": "stdout",
     "output_type": "stream",
     "text": [
      "200 200 200\n",
      "\n",
      "---------\n",
      " Test data: \n",
      " [[1, 1, 1, 1, 1, 1, 1, 1, 1, 1, 1], [0, 1, 4, 9, 16, 25, 36, 49, 64, 81, 100], [0, 1, 2, 3, 4, 5, 6, 7, 8, 9, 10]]\n",
      "\n",
      " --------- \n",
      " The numeric value for x^2 is:  333.3333333333333\n",
      "\n",
      " --------- \n",
      " The exact value for x^2 is (1/3*x2^3 - 1/3*x1^3 ):  333.3333333333333\n"
     ]
    }
   ],
   "source": [
    "import numpy as np\n",
    "import pprint\n",
    "\n",
    "L = [list(np.random.random(200)), list(np.random.random(200)), list(np.linspace(0,199,num=200))]\n",
    "print(len(L[0]),len(L[1]),len(L[2]))\n",
    "\n",
    "L_test = [[1 for i in range(11)],[i*i for i in range(11)],[i for i in range(11)]]\n",
    "\n",
    "\n",
    "def solve_integral(data_points):\n",
    "    '''\n",
    "    S(f) = b-a/6*[f(a)+4f(a+b/2)+f(b)]\n",
    "    '''\n",
    "    scan_range = len(data_points[0])-1\n",
    "    result = 0\n",
    "    for i in range(1,scan_range,2):\n",
    "        result += (data_points[2][i+1]-data_points[2][i-1])/6*\\\n",
    "                  (\n",
    "                   data_points[0][i-1]*data_points[1][i-1]+\\\n",
    "                   4*(data_points[0][i]*data_points[1][i])+\\\n",
    "                   data_points[0][i+1]*data_points[1][i+1]    )\n",
    "        \n",
    "    return result\n",
    "print('\\n---------\\n Test data: \\n',L_test)\n",
    "print('\\n --------- \\n The numeric value for x^2 is: ',solve_integral(L_test))\n",
    "print('\\n --------- \\n The exact value for x^2 is (1/3*x2^3 - 1/3*x1^3 ): ',(1/3*10**3))"
   ]
  }
 ],
 "metadata": {
  "anaconda-cloud": {},
  "kernelspec": {
   "display_name": "Python [conda root]",
   "language": "python",
   "name": "conda-root-py"
  },
  "language_info": {
   "codemirror_mode": {
    "name": "ipython",
    "version": 3
   },
   "file_extension": ".py",
   "mimetype": "text/x-python",
   "name": "python",
   "nbconvert_exporter": "python",
   "pygments_lexer": "ipython3",
   "version": "3.5.2"
  }
 },
 "nbformat": 4,
 "nbformat_minor": 1
}
